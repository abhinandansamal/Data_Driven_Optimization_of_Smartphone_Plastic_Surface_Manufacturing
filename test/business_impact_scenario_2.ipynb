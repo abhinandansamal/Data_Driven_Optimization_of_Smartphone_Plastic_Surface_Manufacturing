{
 "cells": [
  {
   "cell_type": "markdown",
   "id": "94c5f896",
   "metadata": {},
   "source": [
    "### ==============================================================================\n",
    "### 🚀 SCENARIO - 2: The Impact of Raw Material Quality\n",
    "### ==============================================================================\n",
    "\n",
    "This scenario will find all the production runs from our real test data that used low-quality raw materials (a quality score below 80) and then simulate the outcome if those exact same runs had used high-quality materials (a score of 95).\n",
    "\n",
    "This directly answers the business question: `Is it worth investing in better raw materials to increase our effective capacity?`"
   ]
  },
  {
   "cell_type": "code",
   "execution_count": 1,
   "id": "cbb412e1",
   "metadata": {},
   "outputs": [],
   "source": [
    "import joblib\n",
    "import pandas as pd\n",
    "import numpy as np\n",
    "from sklearn.model_selection import train_test_split"
   ]
  },
  {
   "cell_type": "code",
   "execution_count": 2,
   "id": "907d8883",
   "metadata": {},
   "outputs": [
    {
     "name": "stdout",
     "output_type": "stream",
     "text": [
      "1. Loading the saved model preprocessor, and original test data...\n",
      "✅ Model and preprocessor loaded successfully.\n"
     ]
    }
   ],
   "source": [
    "print(\"1. Loading the saved model preprocessor, and original test data...\")\n",
    "\n",
    "# Load the pre-trained model and the preprocessor\n",
    "loaded_model = joblib.load(\"../model/defect_rate_predictor.joblib\")\n",
    "loaded_preprocessor = joblib.load(\"../model/preprocessor.joblib\")\n",
    "\n",
    "print(\"✅ Model and preprocessor loaded successfully.\")"
   ]
  },
  {
   "cell_type": "code",
   "execution_count": 3,
   "id": "d1d827d3",
   "metadata": {},
   "outputs": [],
   "source": [
    "# Load the raw dataset to get the original, untransformed test data\n",
    "df_raw = pd.read_csv(\"../data/smart_phone_surface_plastic_manufacture.csv\")\n",
    "X = df_raw.drop(columns=['Defect Rate (%)', 'Production Output (Units)', 'Unnamed: 0', 'Production Run ID', 'Date'])\n",
    "y = df_raw['Defect Rate (%)'].dropna()"
   ]
  },
  {
   "cell_type": "code",
   "execution_count": 4,
   "id": "52174c46",
   "metadata": {},
   "outputs": [],
   "source": [
    "# Split the data into training and testing sets\n",
    "X_train_raw, X_test_raw, y_train, y_test = train_test_split(X.loc[y.index], y, test_size=0.2, random_state=42)"
   ]
  },
  {
   "cell_type": "code",
   "execution_count": 5,
   "id": "bf1b1366",
   "metadata": {},
   "outputs": [
    {
     "name": "stdout",
     "output_type": "stream",
     "text": [
      "\n",
      "--- Business Impact Simulation: Raw Material Quality ---\n",
      "Average Predicted Defect Rate for Runs with Low-Quality Materials: 2.55%\n",
      "Predicted Defect Rate if High-Quality Materials Were Used: 2.46%\n",
      "--------------------------------------------------\n",
      "✅ By investing in higher-quality raw materials, the model predicts an average improvement of 0.09 percentage points in the defect rate.\n",
      "\n",
      "This provides a second, independent business case for how to increase effective capacity by making a data-driven change to the production inputs.\n"
     ]
    }
   ],
   "source": [
    "# --- 2. Identify \"Low Quality\" Runs from the Real Test Set ---\n",
    "# A \"problem run\" is any run with a raw material quality score below 80\n",
    "low_quality_runs = X_test_raw[X_test_raw['Raw Material Quality (Score)'] < 80].copy()\n",
    "\n",
    "if low_quality_runs.empty:\n",
    "    print(\"No low-quality material runs found in the test set to simulate. Please adjust the threshold if needed.\")\n",
    "else:\n",
    "    # --- 3. Create a \"Simulated High Quality\" Version of These Runs ---\n",
    "    # What if these exact runs had used premium materials (score of 95)?\n",
    "    simulated_high_quality_runs = low_quality_runs.copy()\n",
    "    simulated_high_quality_runs['Raw Material Quality (Score)'] = 95.0\n",
    "\n",
    "    # --- Re-engineer features for both original and simulated data ---\n",
    "    for df in [low_quality_runs, simulated_high_quality_runs]:\n",
    "        df['Energy_per_Unit'] = df['Energy Consumption (kWh)'] / (df['Batch Size (Units)'] + 1e-6)\n",
    "        df['Process_Stress_Index'] = df['Temperature (°C)'] * df['Pressure (Pa)']\n",
    "\n",
    "\n",
    "    # --- 4. Preprocess and Predict for Both Groups ---\n",
    "    # Preprocess the original low-quality runs\n",
    "    original_processed = loaded_preprocessor.transform(low_quality_runs)\n",
    "    # Preprocess the simulated high-quality runs\n",
    "    simulated_processed = loaded_preprocessor.transform(simulated_high_quality_runs)\n",
    "\n",
    "    # Get column names to create DataFrames for dropping features\n",
    "    ohe_feature_names = loaded_preprocessor.named_transformers_['cat'].get_feature_names_out()\n",
    "    all_feature_names = (\n",
    "        list(loaded_preprocessor.named_transformers_['skewed'].feature_names_in_) +\n",
    "        list(loaded_preprocessor.named_transformers_['symmetric'].feature_names_in_) +\n",
    "        list(ohe_feature_names)\n",
    "    )\n",
    "\n",
    "    original_processed_df = pd.DataFrame(original_processed, columns=all_feature_names)\n",
    "    simulated_processed_df = pd.DataFrame(simulated_processed, columns=all_feature_names)\n",
    "\n",
    "    # Drop high-VIF columns from both\n",
    "    cols_to_drop = ['Process_Stress_Index', 'Pressure (Pa)']\n",
    "    original_final = original_processed_df.drop(columns=cols_to_drop)\n",
    "    simulated_final = simulated_processed_df.drop(columns=cols_to_drop)\n",
    "\n",
    "    # Predict the defect rate for both groups\n",
    "    original_predicted_defects = loaded_model.predict(original_final)\n",
    "    simulated_predicted_defects = loaded_model.predict(simulated_final)\n",
    "\n",
    "\n",
    "    # --- 5. Display the Clear Business Impact ---\n",
    "    avg_original_defect_rate = np.mean(original_predicted_defects)\n",
    "    avg_simulated_defect_rate = np.mean(simulated_predicted_defects)\n",
    "    improvement = avg_original_defect_rate - avg_simulated_defect_rate\n",
    "\n",
    "    print(\"\\n--- Business Impact Simulation: Raw Material Quality ---\")\n",
    "    print(f\"Average Predicted Defect Rate for Runs with Low-Quality Materials: {avg_original_defect_rate:.2f}%\")\n",
    "    print(f\"Predicted Defect Rate if High-Quality Materials Were Used: {avg_simulated_defect_rate:.2f}%\")\n",
    "    print(\"-\" * 50)\n",
    "    print(f\"✅ By investing in higher-quality raw materials, the model predicts an average improvement of {improvement:.2f} percentage points in the defect rate.\")\n",
    "    print(\"\\nThis provides a second, independent business case for how to increase effective capacity by making a data-driven change to the production inputs.\")"
   ]
  },
  {
   "cell_type": "code",
   "execution_count": null,
   "id": "f4414d71",
   "metadata": {},
   "outputs": [],
   "source": []
  }
 ],
 "metadata": {
  "kernelspec": {
   "display_name": "myenv",
   "language": "python",
   "name": "python3"
  },
  "language_info": {
   "codemirror_mode": {
    "name": "ipython",
    "version": 3
   },
   "file_extension": ".py",
   "mimetype": "text/x-python",
   "name": "python",
   "nbconvert_exporter": "python",
   "pygments_lexer": "ipython3",
   "version": "3.12.7"
  }
 },
 "nbformat": 4,
 "nbformat_minor": 5
}
